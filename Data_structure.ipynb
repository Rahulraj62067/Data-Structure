{
  "nbformat": 4,
  "nbformat_minor": 0,
  "metadata": {
    "colab": {
      "provenance": []
    },
    "kernelspec": {
      "name": "python3",
      "display_name": "Python 3"
    },
    "language_info": {
      "name": "python"
    }
  },
  "cells": [
    {
      "cell_type": "markdown",
      "source": [
        "#THEORY OF DATA STRUCTURE"
      ],
      "metadata": {
        "id": "yN4GSzkyVJd4"
      }
    },
    {
      "cell_type": "markdown",
      "source": [
        "1.What are data structures, and why are they important?                        \n",
        "-> Data structure are organized ways to store, manage, and access data          \n",
        "   efficiently,  such as arrays, linked lists, stacks, queues, trees, and\n",
        "   graphs.\n",
        "   They are important because the improve efficiency, data organization, and\n",
        "  memory usage, forming the backbone of algorithms and enabling scalable\n",
        "  solutions for real-world problems like databases, networks, and AI systems."
      ],
      "metadata": {
        "id": "WOunQB0-VSV7"
      }
    },
    {
      "cell_type": "markdown",
      "source": [
        "2.Explain the difference between mutable and immutable data types with examples.                                                                       \n",
        "\n",
        "-> Difference between mutable and immutable data types:-                         \n",
        "(i) Mutable data types:                                                         \n",
        "\n",
        " . Can be modified after creation.\n",
        "\n",
        " . Changes happen in place.\n",
        "\n",
        " . Examples:                                                                    \n",
        "\n",
        " -> Lists:"
      ],
      "metadata": {
        "id": "a2Fo6Y1nWwvW"
      }
    },
    {
      "cell_type": "code",
      "source": [
        "my_list = [1,2,3]\n",
        "my_list[0] = 100\n",
        "print(my_list)"
      ],
      "metadata": {
        "colab": {
          "base_uri": "https://localhost:8080/"
        },
        "id": "SQmD9BHOZacV",
        "outputId": "3d25d31b-4b71-48e8-d30b-1fb6e160c9c6"
      },
      "execution_count": 4,
      "outputs": [
        {
          "output_type": "stream",
          "name": "stdout",
          "text": [
            "[100, 2, 3]\n"
          ]
        }
      ]
    },
    {
      "cell_type": "markdown",
      "source": [
        "-> Dictionary:"
      ],
      "metadata": {
        "id": "_bavxi2saFIO"
      }
    },
    {
      "cell_type": "code",
      "source": [
        "my_dict = {\"a\":1}\n",
        "my_dict[\"b\"] = 2\n",
        "print(my_dict)"
      ],
      "metadata": {
        "colab": {
          "base_uri": "https://localhost:8080/"
        },
        "id": "RTS635CnaLLm",
        "outputId": "534ae367-e1e0-499d-804e-213271a4dc27"
      },
      "execution_count": 5,
      "outputs": [
        {
          "output_type": "stream",
          "name": "stdout",
          "text": [
            "{'a': 1, 'b': 2}\n"
          ]
        }
      ]
    },
    {
      "cell_type": "markdown",
      "source": [
        "(ii) Immutable data types:                                                      \n",
        " . Cannot be modified after creation.                                           \n",
        " . Modification create a new object.                                            \n",
        " . Examples:                                                                    \n",
        " -> String:"
      ],
      "metadata": {
        "id": "ilY5CQSoa4i_"
      }
    },
    {
      "cell_type": "code",
      "source": [
        "my_string = \"hello\"\n",
        "my_string = my_string + \"world\"\n",
        "print(my_string)"
      ],
      "metadata": {
        "colab": {
          "base_uri": "https://localhost:8080/"
        },
        "id": "R2MeGBoTbvua",
        "outputId": "a59cfb43-bc71-4df4-f115-837a959f2a01"
      },
      "execution_count": 6,
      "outputs": [
        {
          "output_type": "stream",
          "name": "stdout",
          "text": [
            "helloworld\n"
          ]
        }
      ]
    },
    {
      "cell_type": "markdown",
      "source": [
        "-> Tuple:"
      ],
      "metadata": {
        "id": "2bsMEig0cHjO"
      }
    },
    {
      "cell_type": "code",
      "source": [
        "my_tuple = (1,2,3)\n",
        "# my_tuple{0} = 100 # Raises typeerror"
      ],
      "metadata": {
        "id": "TTDJnMGJcKkj"
      },
      "execution_count": 9,
      "outputs": []
    },
    {
      "cell_type": "markdown",
      "source": [
        "3.What are the main differences between lists and tuples in Python?             \n",
        "-> Main differences between list and tuples in Python:                          \n",
        "(1) Mutability:                                                                 \n",
        " -> List: Mutable"
      ],
      "metadata": {
        "id": "kCLOcMzQdecs"
      }
    },
    {
      "cell_type": "code",
      "source": [
        "my_list = [1,2,3]\n",
        "my_list[0] = 100"
      ],
      "metadata": {
        "id": "NHrjc-4pecv3"
      },
      "execution_count": 10,
      "outputs": []
    },
    {
      "cell_type": "markdown",
      "source": [
        "->Tuple: Immutable"
      ],
      "metadata": {
        "id": "QG9nTxbVe3ov"
      }
    },
    {
      "cell_type": "code",
      "source": [
        "my_tuple = (1,2,3)"
      ],
      "metadata": {
        "id": "gv0tTDzMfKDD"
      },
      "execution_count": 11,
      "outputs": []
    },
    {
      "cell_type": "markdown",
      "source": [
        "(2) Syntax:                                                                     \n",
        "-> List: Created with square brackets[ ]."
      ],
      "metadata": {
        "id": "TIzv66L4gYbY"
      }
    },
    {
      "cell_type": "code",
      "source": [
        "my_list = [1,2,3]"
      ],
      "metadata": {
        "id": "loQHEj6Mgw4q"
      },
      "execution_count": 12,
      "outputs": []
    },
    {
      "cell_type": "markdown",
      "source": [
        "-> Tuple: Created with parentheses ( )."
      ],
      "metadata": {
        "id": "cXeIuCvNg7Ay"
      }
    },
    {
      "cell_type": "code",
      "source": [
        "my_tuple = (1,2,3)"
      ],
      "metadata": {
        "id": "OpWlOV8ehFL9"
      },
      "execution_count": 13,
      "outputs": []
    },
    {
      "cell_type": "markdown",
      "source": [
        "(3) Performance:                                                                \n",
        "-> List: Slower due to dynamic nature.                                          \n",
        "-> Tuple: Faster due to immutability.                                           \n",
        "(4) Use Cases:                                                                  \n",
        "-> List: For data that needs frequent updates.                                  \n",
        "-> Tuple: For fixed data or when immutability is required.                      \n",
        "(5) Storage:                                                                    \n",
        "-> List: Requires more memory.                                                  \n",
        "-> Tuple: More memory-efficient."
      ],
      "metadata": {
        "id": "dGJIm7ifhRHl"
      }
    },
    {
      "cell_type": "markdown",
      "source": [
        "4.Describe how dictionaries store data.                                         \n",
        "-> Dictionaries in Python store data as key-value pairs in a hash table. Each key is hashed to dett=ermine its position in memory, allowing for fast lookups, insertions, and deletions (O(1) average time complexity). Keys must be unique and hashable (e.g., strings, numbers), while values can be any Python object."
      ],
      "metadata": {
        "id": "0z0CKzvUivFQ"
      }
    },
    {
      "cell_type": "markdown",
      "source": [
        "5.Why might you use a set instead of a list in Python?                          \n",
        "-> You use a set instead of a list in Python for the following reasons:         \n",
        "1. Uniqueness:                                                                  \n",
        "   Sets automatically eliminate duplicates, ensuring that each element appears only once. this is useful when you want to store unique items."
      ],
      "metadata": {
        "id": "gk14-RbMk1uQ"
      }
    },
    {
      "cell_type": "code",
      "source": [
        "my_set = {1,2,3,3} # Reasult:{1,2,3}"
      ],
      "metadata": {
        "id": "d_9URrRkmEub"
      },
      "execution_count": 15,
      "outputs": []
    },
    {
      "cell_type": "markdown",
      "source": [
        "2. Faster Lookups:                                                              \n",
        "   Sets provide faster membership tests (O(1) on average) compared to lists (O(n)). Checking if an element exists in a set is more efficient."
      ],
      "metadata": {
        "id": "pm2sWLgCmXDM"
      }
    },
    {
      "cell_type": "code",
      "source": [
        "my_set = {1,2,3}\n",
        "print(2 in my_set)"
      ],
      "metadata": {
        "colab": {
          "base_uri": "https://localhost:8080/"
        },
        "id": "tyHWfiKVm7_l",
        "outputId": "8562c911-26af-463e-cbe9-9daecd9c5f36"
      },
      "execution_count": 16,
      "outputs": [
        {
          "output_type": "stream",
          "name": "stdout",
          "text": [
            "True\n"
          ]
        }
      ]
    },
    {
      "cell_type": "markdown",
      "source": [
        "3. Set Operations:\n",
        "   Sets support mathematical operations like union, intersectuions, and difference, making them ideal for operations on collections of unique elements."
      ],
      "metadata": {
        "id": "ryhrhEhlnOcj"
      }
    },
    {
      "cell_type": "code",
      "source": [
        "set_a = {1,2,3}\n",
        "set_b = {3,4,5}\n",
        "print(set_a & set_b)"
      ],
      "metadata": {
        "colab": {
          "base_uri": "https://localhost:8080/"
        },
        "id": "dEuKM-H7nuL7",
        "outputId": "8219e0ad-e7b8-446e-99f6-03d3d77b00dd"
      },
      "execution_count": 17,
      "outputs": [
        {
          "output_type": "stream",
          "name": "stdout",
          "text": [
            "{3}\n"
          ]
        }
      ]
    },
    {
      "cell_type": "markdown",
      "source": [
        "6.What is a string in Python, and how is it different from a list?              \n",
        "-> A string in Python is an immutable sequence of characters used to represent text. It is enclosed in quotes (single or double).                              \n",
        "                                                                                                                                                             A list is a mutable collection that can hold items of any data type, including numbers, strings, or other objects."
      ],
      "metadata": {
        "id": "xZ32jhC8oKBB"
      }
    },
    {
      "cell_type": "markdown",
      "source": [
        "7.How do tuples ensure data integrity in Python?                                \n",
        "-> Tuples ensure data integrity in Python by being immutable, meaning their contents cannot be changed after creation. This immutability prevents accidental modification, making tuples ideal for storing fixed collections of data, such as database records or constants."
      ],
      "metadata": {
        "id": "ep81g4bXp-4z"
      }
    },
    {
      "cell_type": "markdown",
      "source": [
        "8.What is a hash table, and how does it relate to dictionaries in Python?       \n",
        "-> A hash table is a data structure that stores key-value pairs, where a hash function is used to compute an index for each key, determining where its associated value will be stored in an array. This allows for efficient operations like inserting, deleting, and looking up values, typically in O(1) time on average.\n",
        "\n",
        "In Python, a dictionary (dict) is implemented using a hash table. The keys in a dictionary must be hashable (i.e., have a stable hash value and support equality comparison). When you perform operations like my_dict[key], Python uses the hash table to quickly locate the value associated with key. This makes dictionaries a powerful and efficient tool for managing mappings in Python."
      ],
      "metadata": {
        "id": "C8d2Hzqvq_xI"
      }
    },
    {
      "cell_type": "markdown",
      "source": [
        "9.Can lists contain different data types in Python?                             \n",
        "->Yes, lists in Python can contain elements of different data types. A list is a versatile, ordered collection that can hold any type of data, including integers, strings, floats, objects, or even other lists. For example:"
      ],
      "metadata": {
        "id": "YdJxcBkynl0w"
      }
    },
    {
      "cell_type": "code",
      "source": [
        "mixed_list = [1, \"hello\", 3.14, [1, 2, 3], {\"key\": \"value\"}]"
      ],
      "metadata": {
        "id": "P3XBlkxfn71z"
      },
      "execution_count": 2,
      "outputs": []
    },
    {
      "cell_type": "markdown",
      "source": [
        "Here, the list mixed_list contains an integer, a string, a float, another list, and a dictionary, demonstrating Python's flexibility with lists."
      ],
      "metadata": {
        "id": "yIb5hRNcoL_q"
      }
    },
    {
      "cell_type": "markdown",
      "source": [
        "10.Explain why strings are immutable in Python.                                 \n",
        "->Strings are immutable in Python, meaning their content cannot be changed after they are created. This design choice is due to several reasons:\n",
        "\n",
        "1.Memory Efficiency: Immutable objects can be safely reused in memory, reducing the need for duplicating data. For instance, if two variables reference the same string, Python doesn't need to copy the string because it can't be changed.\n",
        "\n",
        "2.Hashing:\n",
        "Strings are commonly used as keys in dictionaries or elements in sets. Immutability ensures that the hash value of a string remains constant, making it reliable for use in hash-based data structures.\n",
        "\n",
        "3.Thread-Safety:\n",
        "Since strings cannot be modified, they are inherently thread-safe. This means that strings can be shared across threads without the risk of unexpected changes.\n",
        "\n",
        "4.Predictable Behavior:\n",
        "Immutability ensures that strings behave consistently, reducing potential bugs that might arise from inadvertent modifications.\n",
        "\n",
        "When modifications are needed, Python creates a new string rather than altering the original. For example:"
      ],
      "metadata": {
        "id": "5e7x8wDcoUgV"
      }
    },
    {
      "cell_type": "code",
      "source": [
        "s = \"hello\"\n",
        "s = s + \" world\""
      ],
      "metadata": {
        "id": "bXAZ5Spro03t"
      },
      "execution_count": 4,
      "outputs": []
    },
    {
      "cell_type": "markdown",
      "source": [
        "This immutability makes strings efficient, safe, and reliable in Python."
      ],
      "metadata": {
        "id": "iNHPTwmtpJms"
      }
    },
    {
      "cell_type": "markdown",
      "source": [
        "11.What advantages do dictionaries offer over lists for certain tasks?          \n",
        "->Dictionaries in Python offer several advantages over lists for specific tasks due to their unique properties:\n",
        "\n",
        "1.Fast Lookup:\n",
        "Dictionaries provide O(1) average-time complexity for key-based lookups, making them ideal for scenarios where quick access to data by a unique identifier is needed. In contrast, lists require O(n) time for searching elements.\n",
        "\n",
        "2.Key-Value Mapping:\n",
        "Dictionaries store data as key-value pairs, allowing for more meaningful associations between data items. For example, instead of using a list like [\"Rahul\", 18], you can use a dictionary like {\"name\": \"Rahul\", \"age\": 18} for better clarity and access.\n",
        "\n",
        "3.Unique Keys:\n",
        "Dictionaries enforce the uniqueness of keys, making them useful for tasks that require distinct identifiers (e.g., storing configurations or counting occurrences of items).\n",
        "\n",
        "4.Dynamic and Flexible:\n",
        "Dictionaries allow easy addition, removal, or modification of key-value pairs without requiring data to be sequentially organized, unlike lists which depend on indexing.\n",
        "\n",
        "5.Optimized for Lookups, Not Order:\n",
        "If order is not a priority (or you use Python 3.7+ where dictionaries maintain insertion order), dictionaries can outperform lists in managing non-sequential or unordered data.\n",
        "\n",
        "6.Direct Access by Key:\n",
        "With dictionaries, you can directly access values using descriptive keys, which improves code readability and reduces complexity compared to list indices.      \n",
        "\n",
        "Example:"
      ],
      "metadata": {
        "id": "SBozKb0-pTkc"
      }
    },
    {
      "cell_type": "code",
      "source": [
        "# Using a list\n",
        "data_list = [\"Rahul\", 18]\n",
        "print(data_list[0])  # Access by index\n",
        "\n",
        "# Using a dictionary\n",
        "data_dict = {\"name\": \"Rahul\", \"age\": 18}\n",
        "print(data_dict[\"name\"])  # Access by key"
      ],
      "metadata": {
        "colab": {
          "base_uri": "https://localhost:8080/"
        },
        "id": "WDZuDZ0rp1n_",
        "outputId": "2cec77a8-ae58-4157-f935-6c3a1419b946"
      },
      "execution_count": 6,
      "outputs": [
        {
          "output_type": "stream",
          "name": "stdout",
          "text": [
            "Rahul\n",
            "Rahul\n"
          ]
        }
      ]
    },
    {
      "cell_type": "markdown",
      "source": [
        "In summary, dictionaries are more efficient and intuitive than lists for tasks involving key-based data management and fast lookups.\n",
        "\n",
        "\n",
        "\n",
        "\n",
        "\n",
        "\n",
        "\n",
        "\n"
      ],
      "metadata": {
        "id": "ZOAvJbV3qd2m"
      }
    },
    {
      "cell_type": "markdown",
      "source": [
        "12.Describe a scenario where using a tuple would be preferable over a list.     \n",
        "->Using a tuple is preferable over a list in scenarios where immutability or hashability is important. Here are some specific examples:\n",
        "\n",
        "1. Immutable Data\n",
        "If you have a collection of values that should not change, a tuple ensures the data remains read-only, reducing the risk of unintended modifications.\n",
        "Example: Storing coordinates or fixed configuration settings.\n"
      ],
      "metadata": {
        "id": "wRNrZyLXrOPf"
      }
    },
    {
      "cell_type": "code",
      "source": [
        "coordinates = (10, 20)  # Prevent accidental modification of x and y."
      ],
      "metadata": {
        "id": "BgcDagh5roPy"
      },
      "execution_count": 7,
      "outputs": []
    },
    {
      "cell_type": "markdown",
      "source": [
        "2. Dictionary Keys or Set Elements\n",
        "Since tuples are hashable (as long as they contain only hashable elements) and lists are not, tuples can be used as keys in dictionaries or as elements in sets.\n",
        "Example:"
      ],
      "metadata": {
        "id": "gxYSQI0Nrs1r"
      }
    },
    {
      "cell_type": "code",
      "source": [
        "points = {(1, 2): \"A\", (3, 4): \"B\"}  # Using tuples as dictionary keys."
      ],
      "metadata": {
        "id": "whpoY20_r0Jd"
      },
      "execution_count": 8,
      "outputs": []
    },
    {
      "cell_type": "markdown",
      "source": [
        "3. Memory Efficiency\n",
        "Tuples generally use less memory compared to lists, making them a better choice when working with large collections of immutable data.\n",
        "\n",
        "4. Function Returns\n",
        "Tuples are often used for returning multiple values from a function, as they clearly convey the idea of a fixed-size, unchangeable collection of related values.\n",
        "Example:"
      ],
      "metadata": {
        "id": "bIH5PG1nr-V2"
      }
    },
    {
      "cell_type": "code",
      "source": [
        "def get_user_info():\n",
        "    return (\"Alice\", 30, \"Engineer\")  # A fixed set of related data."
      ],
      "metadata": {
        "id": "QECb5h8NsBbu"
      },
      "execution_count": 9,
      "outputs": []
    },
    {
      "cell_type": "markdown",
      "source": [
        "5. Semantic Intent\n",
        "Tuples can signal to other developers that the data is constant and should not be altered, improving code readability and maintaining logical integrity.\n",
        "\n",
        "By choosing tuples over lists in these scenarios, you can enhance performance, clarity, and data safety in your programs."
      ],
      "metadata": {
        "id": "A5zdbn3DsGQw"
      }
    },
    {
      "cell_type": "markdown",
      "source": [
        "13. How do sets handle duplicate values in Python?                              \n",
        "->In Python, sets automatically handle duplicate values by eliminating them. A set is an unordered collection of unique elements, so if a duplicate value is added, it is ignored, and only one instance of that value is retained.\n",
        "\n",
        "Example:"
      ],
      "metadata": {
        "id": "MD1PzVC1q9MQ"
      }
    },
    {
      "cell_type": "code",
      "source": [
        "my_set = {1, 2, 3, 3, 4}\n",
        "print(my_set)"
      ],
      "metadata": {
        "colab": {
          "base_uri": "https://localhost:8080/"
        },
        "id": "GHMSeIZ4sYU-",
        "outputId": "a1188f8d-1a4d-4f96-bd4b-a723f380139d"
      },
      "execution_count": 11,
      "outputs": [
        {
          "output_type": "stream",
          "name": "stdout",
          "text": [
            "{1, 2, 3, 4}\n"
          ]
        }
      ]
    },
    {
      "cell_type": "markdown",
      "source": [
        "How it Works:                                                                   \n",
        "-When you add an element to a set, Python checks if the element is already present using its hash value.                                                   \n",
        "-If the element exists, it is not added again, ensuring all elements in the set are unique.                                                                     \n",
        "This behavior makes sets particularly useful for tasks like:                    \n",
        "\n",
        "-Removing duplicates from a list.                                               \n",
        "-Checking membership efficiently.                                               \n",
        "-Performing mathematical set operations like unions and intersections.          "
      ],
      "metadata": {
        "id": "V3NO2FcisggJ"
      }
    },
    {
      "cell_type": "markdown",
      "source": [
        " 14.How does the “in” keyword work differently for lists and dictionaries?      \n",
        " ->The in keyword works differently for lists and dictionaries in Python because it checks for membership in different contexts:\n",
        "\n",
        "For Lists:                                                                      \n",
        "-The in keyword checks whether a value exists as an element in the list.        \n",
        "-It performs a linear search, so the time complexity is O(n), where n is the    length of the list.\n",
        "Example:"
      ],
      "metadata": {
        "id": "PBQVdZV9tzXT"
      }
    },
    {
      "cell_type": "code",
      "source": [
        "my_list = [1, 2, 3, 4]\n",
        "print(3 in my_list)\n",
        "print(5 in my_list)"
      ],
      "metadata": {
        "colab": {
          "base_uri": "https://localhost:8080/"
        },
        "id": "LtCFLNAuudjc",
        "outputId": "234f57bf-ebc7-44b9-fe9c-4108d6637581"
      },
      "execution_count": 12,
      "outputs": [
        {
          "output_type": "stream",
          "name": "stdout",
          "text": [
            "True\n",
            "False\n"
          ]
        }
      ]
    },
    {
      "cell_type": "markdown",
      "source": [
        "For Dictionaries:                                                               \n",
        "-The in keyword checks whether a key exists in the dictionary, not the values.  \n",
        "-It leverages the hash table implementation of dictionaries, so the time        complexity is O(1) on average.                                                  \n",
        "Example:"
      ],
      "metadata": {
        "id": "I8UB0JFAur09"
      }
    },
    {
      "cell_type": "code",
      "source": [
        "my_dict = {\"a\": 1, \"b\": 2, \"c\": 3}\n",
        "print(\"a\" in my_dict)\n",
        "print(2 in my_dict)"
      ],
      "metadata": {
        "colab": {
          "base_uri": "https://localhost:8080/"
        },
        "id": "zFLVwzyxu3YZ",
        "outputId": "584f1624-676f-475d-a7c6-26bf7b890dbe"
      },
      "execution_count": 13,
      "outputs": [
        {
          "output_type": "stream",
          "name": "stdout",
          "text": [
            "True\n",
            "False\n"
          ]
        }
      ]
    },
    {
      "cell_type": "markdown",
      "source": [
        "15.Can you modify the elements of a tuple? Explain why or why not.              \n",
        "->No, you cannot modify the elements of a tuple because tuples are immutable in Python. Once a tuple is created, its size and the values of its elements cannot be changed. This immutability applies to all operations—no adding, removing, or altering elements.\n",
        "\n",
        "Why Tuples Are Immutable:\n",
        "Design Choice:\n",
        "Immutability makes tuples hashable (if their elements are hashable), allowing   them to be used as keys in dictionaries and elements in sets.\n",
        "\n",
        "Thread-Safety:\n",
        "Since tuples cannot be modified, they are inherently thread-safe and can be     \n",
        "shared across threads without risk of unintended changes.\n",
        "\n",
        "Data Integrity:\n",
        "Immutability ensures that the data remains constant, preventing accidental      \n",
        "changes.                                                                        \n",
        "                                                                                Important Note on Mutability of Contained Objects:                              \n",
        "While tuples themselves cannot be modified, mutable objects (like lists or dictionaries) within a tuple can be modified.\n",
        "\n",
        "Example:"
      ],
      "metadata": {
        "id": "GuN9zidfvIpX"
      }
    },
    {
      "cell_type": "code",
      "source": [
        "t = (1, 2, [3, 4])\n",
        "t[2].append(5)\n",
        "print(t)"
      ],
      "metadata": {
        "colab": {
          "base_uri": "https://localhost:8080/"
        },
        "id": "82f2eJ6OwMTm",
        "outputId": "66cd0113-9dd7-4727-e537-72e09f51377e"
      },
      "execution_count": 14,
      "outputs": [
        {
          "output_type": "stream",
          "name": "stdout",
          "text": [
            "(1, 2, [3, 4, 5])\n"
          ]
        }
      ]
    },
    {
      "cell_type": "markdown",
      "source": [
        "16.What is a nested dictionary, and give an example of its use case?            \n",
        "->A nested dictionary in Python is a dictionary where the values themselves are dictionaries. This allows for the creation of more complex, hierarchical data structures.                                                                     \n",
        "\n",
        "Example:                                                                        \n",
        "Imagine a scenario where you need to store information about multiple people,   including their name, age, and address, with the address itself being another   dictionary containing street, city, and zip code."
      ],
      "metadata": {
        "id": "Af6GeG_9v0CY"
      }
    },
    {
      "cell_type": "code",
      "source": [
        "people = {\n",
        "    \"person1\": {\n",
        "        \"name\": \"Alice\",\n",
        "        \"age\": 30,\n",
        "        \"address\": {\n",
        "            \"street\": \"123 Main St\",\n",
        "            \"city\": \"New York\",\n",
        "            \"zip\": \"10001\"\n",
        "        }\n",
        "    },\n",
        "    \"person2\": {\n",
        "        \"name\": \"Bob\",\n",
        "        \"age\": 25,\n",
        "        \"address\": {\n",
        "            \"street\": \"456 Elm St\",\n",
        "            \"city\": \"Chicago\",\n",
        "            \"zip\": \"60007\"\n",
        "        }\n",
        "    }\n",
        "}\n"
      ],
      "metadata": {
        "id": "8g7rm4AWw9bK"
      },
      "execution_count": 16,
      "outputs": []
    },
    {
      "cell_type": "markdown",
      "source": [
        "Use Case Example:                                                               \n",
        "A nested dictionary is useful in cases where data has multiple levels of        hierarchy. For instance:                                                        \n",
        "\n",
        "-Storing user profiles with details like contact info, preferences, and past     activities.                                                                     \n",
        "-Representing organizational structures with departments and employees.          \n",
        "-Managing product inventories with categories, subcategories, and product        details.                                                                        \n",
        "Accessing Data:                                                                 \n",
        "To access specific data in a nested dictionary, you use a chain of keys.        "
      ],
      "metadata": {
        "id": "3RJkm8baxh77"
      }
    },
    {
      "cell_type": "code",
      "source": [
        "print(people[\"person1\"][\"address\"][\"street\"])"
      ],
      "metadata": {
        "colab": {
          "base_uri": "https://localhost:8080/"
        },
        "id": "-YUaWU2ZzKPg",
        "outputId": "0b629ca8-ad5e-44ce-aa14-f1446c4e61f5"
      },
      "execution_count": 23,
      "outputs": [
        {
          "output_type": "stream",
          "name": "stdout",
          "text": [
            "123 Main St\n"
          ]
        }
      ]
    },
    {
      "cell_type": "code",
      "source": [
        "print(people[\"person2\"][\"address\"][\"street\"])"
      ],
      "metadata": {
        "colab": {
          "base_uri": "https://localhost:8080/"
        },
        "id": "KqFcjMUxzYae",
        "outputId": "a42484a2-bd4c-4743-db5b-7add33a893b6"
      },
      "execution_count": 24,
      "outputs": [
        {
          "output_type": "stream",
          "name": "stdout",
          "text": [
            "456 Elm St\n"
          ]
        }
      ]
    },
    {
      "cell_type": "markdown",
      "source": [
        "17.Describe the time complexity of accessing elements in a dictionary.          \n",
        "->The time complexity of accessing elements in a dictionary in Python is O(1) on average, which means it takes constant time to access a value given its key.\n",
        "\n",
        "Why O(1) Time Complexity?                                                       \n",
        "-Hash Table Implementation:                                                     \n",
        "Python dictionaries are implemented using hash tables. When you access a value  via its key (e.g., my_dict[key]), Python computes the hash of the key to        determine its index in the underlying array. This operation takes constant      time, regardless of the size of the dictionary.                                 \n",
        "\n",
        "-Efficient Lookup:                                                              \n",
        "The hash function maps each key to a unique index, allowing for direct access   to the value associated with the key, without the need to search through all    the elements.                                                                   \n",
        "\n",
        "Worst-Case Scenario:                                                            \n",
        "-In rare cases (such as hash collisions), the time complexity can degrade to O  (n), where n is the number of elements in the dictionary. This happens when     multiple keys hash to the same index, leading Python to store these keys in a   list and perform a linear search.                                               \n",
        "-However, Python's implementation of hash tables is highly optimized, and       collisions are minimized, so the average-case time complexity remains O(1)."
      ],
      "metadata": {
        "id": "NZDESNKbzopz"
      }
    },
    {
      "cell_type": "markdown",
      "source": [
        "18.In what situations are lists preferred over dictionaries?                    \n",
        "->Lists are preferred over dictionaries in situations where:                    \n",
        "\n",
        "1.Ordered Collection of Items:                                                   \n",
        "-When you need to maintain the order of elements, especially if the order of     insertion matters. Lists preserve the order of elements, while dictionaries (in versions prior to Python 3.7) did not guarantee order.                          \n",
        "Example: Maintaining a sequence of tasks or events."
      ],
      "metadata": {
        "id": "NH7eldLI0bLr"
      }
    },
    {
      "cell_type": "code",
      "source": [
        "tasks = [\"task1\", \"task2\", \"task3\"]"
      ],
      "metadata": {
        "id": "reXVnvcl06bN"
      },
      "execution_count": 25,
      "outputs": []
    },
    {
      "cell_type": "markdown",
      "source": [
        "2.Index-Based Access:                                                           \n",
        "-When you need to access elements by their index or position in the collection,  lists are ideal since you can use integers for fast access to elements by their index (e.g., my_list[2]).                                                       \n",
        "Example: Accessing elements based on their position in a list.                  "
      ],
      "metadata": {
        "id": "nrWkYS7_1HcV"
      }
    },
    {
      "cell_type": "code",
      "source": [
        "my_list = [10, 20, 30, 40]\n",
        "print(my_list[2])"
      ],
      "metadata": {
        "colab": {
          "base_uri": "https://localhost:8080/"
        },
        "id": "DJQiqJiN1j0M",
        "outputId": "9ca4ac51-d4c6-4876-bfdf-1395331695c4"
      },
      "execution_count": 26,
      "outputs": [
        {
          "output_type": "stream",
          "name": "stdout",
          "text": [
            "30\n"
          ]
        }
      ]
    },
    {
      "cell_type": "markdown",
      "source": [
        "3.Iterating Over All Elements                                                   \n",
        "-When you need to iterate over all elements in a predictable order, lists are    straightforward to loop through, especially with the built-in for loop.         \n",
        "Example: Iterating through a list of items."
      ],
      "metadata": {
        "id": "bouCrL001ux7"
      }
    },
    {
      "cell_type": "markdown",
      "source": [],
      "metadata": {
        "id": "rMbYG_BC19XT"
      }
    },
    {
      "cell_type": "code",
      "source": [
        "fruits = [\"apple\", \"banana\", \"guava\"]\n",
        "for fruit in fruits:\n",
        "    print(fruit)"
      ],
      "metadata": {
        "colab": {
          "base_uri": "https://localhost:8080/"
        },
        "id": "rN7tAlHn1-e9",
        "outputId": "19a72c89-fcbd-4938-9868-36621821fae5"
      },
      "execution_count": 28,
      "outputs": [
        {
          "output_type": "stream",
          "name": "stdout",
          "text": [
            "apple\n",
            "banana\n",
            "guava\n"
          ]
        }
      ]
    },
    {
      "cell_type": "markdown",
      "source": [
        "4.Allowing Duplicates                                                           \n",
        "-When you want to allow duplicate elements, lists can contain multiple           occurrences of the same value. Dictionaries, on the other hand, store only      unique keys.                                                                    \n",
        "Example: Storing repeated data like votes or occurrences"
      ],
      "metadata": {
        "id": "tY7V0zpD2I2E"
      }
    },
    {
      "cell_type": "code",
      "source": [
        "votes = [\"Rahul\", \"Aman\", \"Rahul\", \"Modi\"]"
      ],
      "metadata": {
        "id": "N8HZVzpN2DBj"
      },
      "execution_count": 29,
      "outputs": []
    },
    {
      "cell_type": "markdown",
      "source": [
        "5. When the Size of Data is Not Large                                           \n",
        "-Lists are typically more memory-efficient than dictionaries when dealing with  smaller datasets, as they only store values (no keys). If you're not concerned  with key-based lookups or uniqueness, lists can be more efficient for small     collections.                                                                    \n",
        "6. Simple, Flat Data Structures                                                 \n",
        "-If you don’t need hierarchical or key-value associations and only need a collection of items, a list is a simpler choice. Dictionaries are better suited for cases that involve mapping keys to values.\n"
      ],
      "metadata": {
        "id": "lt3gGN152xDK"
      }
    },
    {
      "cell_type": "markdown",
      "source": [
        "19.Why are dictionaries considered unordered, and how does that affect data     retrieval?                                                                     \n",
        "->Dictionaries in Python were considered unordered because, before Python 3.7, the order of key-value pairs was not guaranteed to be preserved. This is due to the internal hash table structure, where keys are hashed to determine their storage location, and this hashing does not maintain insertion order.\n",
        "\n",
        "However, starting with Python 3.7, dictionaries maintain insertion order, meaning the order in which items are added is preserved. Still, the primary purpose of dictionaries is efficient key-based access, not maintaining order.                                                                         \n",
        "Effect on Data Retrieval:                                                       \n",
        "-Before Python 3.7: Retrieval was based on keys, and the order was unpredictable.                                                                  \n",
        "-Python 3.7+: While the order is now preserved, it doesn't impact lookup time (which remains O(1) on average for accessing values by key). Order is not a primary concern for dictionary use, as retrieval is still focused on efficient access by key rather than the order of elements.                                                                               \n"
      ],
      "metadata": {
        "id": "3wF8UfGy3Alw"
      }
    },
    {
      "cell_type": "markdown",
      "source": [
        "20.Explain the difference between a list and a dictionary in terms of data retrieval.                                                                      \n",
        "->The key difference between a list and a dictionary in terms of data retrieval is:                                                                             \n",
        "\n",
        "-List: Data is retrieved by index (position), and you use integer indices to access elements. Retrieval is O(1) for known indices, but searching for an element requires O(n) time.                                                     \n",
        "\n",
        "-Dictionary: Data is retrieved by key, not index. Keys are hashed for fast access, with O(1) average time complexity for retrieval, making dictionaries more efficient for lookups when you have a unique key."
      ],
      "metadata": {
        "id": "yFx72qsS3-m_"
      }
    },
    {
      "cell_type": "markdown",
      "source": [
        "##DATA STRUCTURE ASSIGNMENT"
      ],
      "metadata": {
        "id": "cXZ_fcyK4VfH"
      }
    },
    {
      "cell_type": "markdown",
      "source": [
        "1.Write a code to create a string with your name and print it."
      ],
      "metadata": {
        "id": "VahZXH8p4gYK"
      }
    },
    {
      "cell_type": "code",
      "source": [
        "name = \"naturo.photographer07\"\n",
        "print(name)"
      ],
      "metadata": {
        "colab": {
          "base_uri": "https://localhost:8080/"
        },
        "id": "jsAgYiZX47zJ",
        "outputId": "84b3fad1-9d88-435a-ee6d-3669c8a24f0c"
      },
      "execution_count": 30,
      "outputs": [
        {
          "output_type": "stream",
          "name": "stdout",
          "text": [
            "naturo.photographer07\n"
          ]
        }
      ]
    },
    {
      "cell_type": "markdown",
      "source": [
        "2.Write a code to find the length of the string \"Hello World\"."
      ],
      "metadata": {
        "id": "k1KOSjA954lW"
      }
    },
    {
      "cell_type": "code",
      "source": [
        "my_string = \"Hello World\"\n",
        "length = len(my_string)\n",
        "print(length)"
      ],
      "metadata": {
        "colab": {
          "base_uri": "https://localhost:8080/"
        },
        "id": "o2PDVNEN5G8q",
        "outputId": "aac98abf-36e2-4f63-8db9-62b4a32391b9"
      },
      "execution_count": 31,
      "outputs": [
        {
          "output_type": "stream",
          "name": "stdout",
          "text": [
            "11\n"
          ]
        }
      ]
    },
    {
      "cell_type": "markdown",
      "source": [
        "3.Write a code to slice the first 3 characters from the string \"Python Programming\"."
      ],
      "metadata": {
        "id": "XLAg7Mfa6oGc"
      }
    },
    {
      "cell_type": "code",
      "source": [
        "my_string = \"Python Programming\"\n",
        "sliced_string = my_string[:3]\n",
        "print(sliced_string)"
      ],
      "metadata": {
        "colab": {
          "base_uri": "https://localhost:8080/"
        },
        "id": "ka_ZUu-66KYZ",
        "outputId": "d9abe3ba-26d1-431c-a026-6fe1c3475372"
      },
      "execution_count": 32,
      "outputs": [
        {
          "output_type": "stream",
          "name": "stdout",
          "text": [
            "Pyt\n"
          ]
        }
      ]
    },
    {
      "cell_type": "markdown",
      "source": [
        "4.Write a code to convert the string \"hello\" to uppercase."
      ],
      "metadata": {
        "id": "zQYHKznj7O1a"
      }
    },
    {
      "cell_type": "code",
      "source": [
        "my_string = \"hello\"\n",
        "uppercase_string = my_string.upper()\n",
        "print(uppercase_string)"
      ],
      "metadata": {
        "colab": {
          "base_uri": "https://localhost:8080/"
        },
        "id": "rOmgnhCx7HvN",
        "outputId": "9eb279b9-bb3c-4855-d074-0815352772fb"
      },
      "execution_count": 33,
      "outputs": [
        {
          "output_type": "stream",
          "name": "stdout",
          "text": [
            "HELLO\n"
          ]
        }
      ]
    },
    {
      "cell_type": "markdown",
      "source": [
        "5.Write a code to replace the word \"apple\" with \"orange\" in the string \"I like apple\"."
      ],
      "metadata": {
        "id": "fdK5ULte7_bZ"
      }
    },
    {
      "cell_type": "code",
      "source": [
        "my_string = \"I like orange\"\n",
        "modified_string = my_string.replace(\"orange\", \"guava\")\n",
        "print(modified_string)\n"
      ],
      "metadata": {
        "colab": {
          "base_uri": "https://localhost:8080/"
        },
        "id": "Zd6j_OvU8C5m",
        "outputId": "94716ba1-9119-4c23-ef28-6431bd2bdbd4"
      },
      "execution_count": 34,
      "outputs": [
        {
          "output_type": "stream",
          "name": "stdout",
          "text": [
            "I like guava\n"
          ]
        }
      ]
    },
    {
      "cell_type": "markdown",
      "source": [
        "6.Write a code to create a list with numbers 1 to 5 and print it."
      ],
      "metadata": {
        "id": "6A3Ods9M8T0P"
      }
    },
    {
      "cell_type": "code",
      "source": [
        "my_list = [1, 2, 3, 4, 5]\n",
        "print(my_list)"
      ],
      "metadata": {
        "colab": {
          "base_uri": "https://localhost:8080/"
        },
        "id": "LqPzIwkB9BCb",
        "outputId": "6e6c1b55-4a39-44f9-85e3-1e2a6de3bf86"
      },
      "execution_count": 35,
      "outputs": [
        {
          "output_type": "stream",
          "name": "stdout",
          "text": [
            "[1, 2, 3, 4, 5]\n"
          ]
        }
      ]
    },
    {
      "cell_type": "markdown",
      "source": [
        "7.Write a code to append the number 10 to the list [1, 2, 3, 4]."
      ],
      "metadata": {
        "id": "uI-Uut7E9HDn"
      }
    },
    {
      "cell_type": "code",
      "source": [
        "my_list = [1, 2, 3, 4]\n",
        "my_list.append(10)\n",
        "print(my_list)"
      ],
      "metadata": {
        "colab": {
          "base_uri": "https://localhost:8080/"
        },
        "id": "dMJ6Ogc_9B-o",
        "outputId": "a0e256c9-51ee-403e-e318-93d738f41d6e"
      },
      "execution_count": 36,
      "outputs": [
        {
          "output_type": "stream",
          "name": "stdout",
          "text": [
            "[1, 2, 3, 4, 10]\n"
          ]
        }
      ]
    },
    {
      "cell_type": "markdown",
      "source": [
        "8.Write a code to remove the number 3 from the list [1, 2, 3, 4, 5]."
      ],
      "metadata": {
        "id": "WcLWyVGx-i8B"
      }
    },
    {
      "cell_type": "code",
      "source": [
        "my_list = [1, 2, 3, 4, 5]\n",
        "my_list.remove(3)\n",
        "print(my_list)"
      ],
      "metadata": {
        "colab": {
          "base_uri": "https://localhost:8080/"
        },
        "id": "cDOOSMLi-toD",
        "outputId": "33cd164a-427f-4fea-d240-8b37ee5148d1"
      },
      "execution_count": 37,
      "outputs": [
        {
          "output_type": "stream",
          "name": "stdout",
          "text": [
            "[1, 2, 4, 5]\n"
          ]
        }
      ]
    },
    {
      "cell_type": "markdown",
      "source": [
        "9.Write a code to access the second element in the list ['a', 'b', 'c', 'd']."
      ],
      "metadata": {
        "id": "PUbvC0F9-3SP"
      }
    },
    {
      "cell_type": "code",
      "source": [
        "my_list = ['a', 'b', 'c', 'd']\n",
        "second_element = my_list[1]\n",
        "print(second_element)"
      ],
      "metadata": {
        "colab": {
          "base_uri": "https://localhost:8080/"
        },
        "id": "QXwxCvaW_EAN",
        "outputId": "50a63045-cc5c-4189-f2a8-c35fdee69c82"
      },
      "execution_count": 38,
      "outputs": [
        {
          "output_type": "stream",
          "name": "stdout",
          "text": [
            "b\n"
          ]
        }
      ]
    },
    {
      "cell_type": "markdown",
      "source": [
        "10.Write a code to reverse the list [10, 20, 30, 40, 50]."
      ],
      "metadata": {
        "id": "UDd3lN9r_Ni6"
      }
    },
    {
      "cell_type": "code",
      "source": [
        "my_list = [10, 20, 30, 40, 50]\n",
        "my_list.reverse()\n",
        "print(my_list)"
      ],
      "metadata": {
        "colab": {
          "base_uri": "https://localhost:8080/"
        },
        "id": "1zqHzI7-_UtU",
        "outputId": "aa24f86f-b759-4b5c-9c9b-9b00f7424917"
      },
      "execution_count": 39,
      "outputs": [
        {
          "output_type": "stream",
          "name": "stdout",
          "text": [
            "[50, 40, 30, 20, 10]\n"
          ]
        }
      ]
    }
  ]
}